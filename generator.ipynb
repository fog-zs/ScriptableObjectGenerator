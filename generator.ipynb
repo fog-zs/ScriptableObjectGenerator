{
 "cells": [
  {
   "cell_type": "code",
   "execution_count": 7,
   "metadata": {},
   "outputs": [],
   "source": [
    "from generator import ScriptableObject\n",
    "\n",
    "save_path = r\".\"\n",
    "name = \"Land\"\n",
    "db = ScriptableObject(        \n",
    "    variables=[\n",
    "        (\"string\", \"areaId\"),\n",
    "        (\"string\", \"userId\"),\n",
    "        (\"string\", \"custom\"),\n",
    "    ]        \n",
    ")\n",
    "db.make_db_script(path = save_path, name = name, stype=1)\n",
    "db.make_importer(name=name)\n",
    "db.make_csv(name=name)\n"
   ]
  }
 ],
 "metadata": {
  "kernelspec": {
   "display_name": "Python 3.9.12 ('base')",
   "language": "python",
   "name": "python3"
  },
  "language_info": {
   "codemirror_mode": {
    "name": "ipython",
    "version": 3
   },
   "file_extension": ".py",
   "mimetype": "text/x-python",
   "name": "python",
   "nbconvert_exporter": "python",
   "pygments_lexer": "ipython3",
   "version": "3.9.12"
  },
  "orig_nbformat": 4,
  "vscode": {
   "interpreter": {
    "hash": "61ffc1f7e6776b16447b478971d01bbb7b04654d98263abb593045c97b9b58e2"
   }
  }
 },
 "nbformat": 4,
 "nbformat_minor": 2
}
